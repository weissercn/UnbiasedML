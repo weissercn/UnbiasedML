{
 "cells": [
  {
   "cell_type": "code",
   "execution_count": 1,
   "metadata": {},
   "outputs": [],
   "source": [
    "from matplotlib import pyplot as plt\n",
    "import numpy as np\n",
    "import contextvars\n",
    "import torch\n",
    "torch.manual_seed(777)\n",
    "np.random.seed(777)"
   ]
  },
  {
   "cell_type": "code",
   "execution_count": 2,
   "metadata": {},
   "outputs": [],
   "source": [
    "def expand_dims_as(t1,t2):\n",
    "    \"\"\"\n",
    "    Adds (t2.dim) dimensions to t1 to make it boradcastable with t2. \n",
    "    Returns an expanded copy of t1. \n",
    "    \n",
    "    Parameters\n",
    "    ----------\n",
    "    t1 : torch.Tensor\n",
    "        tensor to expand.\n",
    "    t2 : torch.Tensor\n",
    "        tensor to expand as.\n",
    "    \"\"\"\n",
    "    result = t1[(...,)+(None,)*t2.dim()]\n",
    "    return result\n",
    "\n",
    "def Heaviside(tensor):\n",
    "    return (tensor>0)\n",
    "\n",
    "class Context():\n",
    "    \"\"\"\n",
    "    Emulates ctx object from torch.autograd.\n",
    "    \"\"\"\n",
    "    def __init__(self):\n",
    "        self.fitter = None\n",
    "        self.residual = None\n",
    "        self.shape = None\n",
    "\n",
    "class LegendreFitter():\n",
    "    def __init__(self,mbins=None,m=None,order=0,power=1):\n",
    "        \"\"\"\n",
    "        Object used to fit an array of using Legendre polynomials.\n",
    "\n",
    "        Parameters\n",
    "        ----------\n",
    "        mbins :int or Array[float] (optional)\n",
    "            Array of bin edges or number of bins in m used in the fit. The fit is integrated along m.\n",
    "        m : Array[float] (optional)\n",
    "            Array of all masses. Has shape (mbins,bincontent)\n",
    "        order : int, default 0\n",
    "            The highest order of legendre polynomial used in the fit.\n",
    "        power : int, default 1\n",
    "            Power used in the norm of the difference between the input and the fit. |fit(input) - input|**power\n",
    "        \"\"\"\n",
    "        if m is None:\n",
    "            if mbins is None:\n",
    "                raise ValueError(\"Provide either m or mbins.\")\n",
    "            mbins = torch.linspace(-1,1,mbins+1) # mass bin edges\n",
    "            m  = (mbins[1:] + mbins[:-1])*0.5    # mass bin centers\n",
    "            dm = mbins[1:] - mbins[:-1]          # mass bin widths\n",
    "        else:\n",
    "            if type(m) != torch.Tensor:\n",
    "                m = torch.FloatTensor(m)\n",
    "            dm = m.max(axis=1)[0] - m.min(axis=1)[0]  # bin widths for each of the mbins.\n",
    "            m  = m.mean(axis=1) # bin centers\n",
    "        self.m = m.view(-1)\n",
    "        self.dm = dm.view(-1)\n",
    "        self.mbins = self.m.shape[0]\n",
    "        self.power = power\n",
    "        self.order = order\n",
    "\n",
    "    def __call__(self,F):\n",
    "        \"\"\"\n",
    "        Fit F with Legendre polynomials and return the fit.\n",
    "\n",
    "        Parameters\n",
    "        ----------\n",
    "        F : torch.Tensor\n",
    "            Tensor of CDFs F_m(s) has shape (N,mbins) where N is the number of scores \n",
    "        \"\"\"\n",
    "        a0 = 1/2 * (F*self.dm).sum(axis=-1).view(-1,1) #integrate over mbins\n",
    "        fit = a0.expand_as(F) # make boradcastable\n",
    "        if self.order>0:\n",
    "            a1 = 3/2 * (F*self.m*self.dm).sum(axis=-1).view(-1,1)\n",
    "            fit = fit + a1*self.m\n",
    "        if self.order>1:\n",
    "            p2 = (self.m**2-1)*0.5\n",
    "            a2 = 5/2 * (F*p2*self.dm).sum(axis=-1).view(-1,1)\n",
    "            fit = fit+ a2*p2\n",
    "        return fit\n",
    "\n",
    "class LegendreIntegral(): #Defined with a context variable to keep the general skeleton of a PyTorch Function.\n",
    "    def __init__(self):\n",
    "        self.ctx = Context() \n",
    "    @staticmethod\n",
    "    def forward(ctx, input, fitter,sbins=None):\n",
    "        \"\"\"\n",
    "        Calculate the Flat loss of input integral{Norm(F(s)-F_flat(s))} integrating over sbins.\n",
    "\n",
    "        Parameters\n",
    "        ----------\n",
    "        input : torch.Tensor\n",
    "            Scores with shape (mbins,bincontent) where mbins * bincontent = N (or the batch size.)\n",
    "        fitter : LegendreFitter\n",
    "            Fitter object used to calculate F_flat(s)\n",
    "        sbins : int\n",
    "            Number of s bins to use in the integral.\n",
    "        \"\"\"\n",
    "        s_edges = torch.linspace(input.min().item(),input.max().item(),sbins+1) #create s edges to integrate over\n",
    "        s = (s_edges[1:] + s_edges[:-1])*0.5\n",
    "        s = expand_dims_as(s,input)\n",
    "        ds = s_edges[1:] - s_edges[:-1]\n",
    "        ds = expand_dims_as(ds,input)\n",
    "\n",
    "        F = Heaviside(s-input).sum(axis=-1).float()/input.shape[-1] # get CDF at s from input values\n",
    "        integral = ((F-fitter(F))**fitter.power*ds.view(-1,1)).sum(axis=0).sum()\n",
    "        F_state.set(F) # save for plotting\n",
    "        s_state.set(s)\n",
    "        F_s_i =  expand_dims_as(input.view(-1),input) #make a flat copy of input and add dimensions for boradcasting\n",
    "        F_s_i =  Heaviside(F_s_i-input).sum(axis=-1).float()/input.shape[-1] #sum over bin content to get CDF\n",
    "        residual = F_s_i - fitter(F_s_i)\n",
    "        ctx.fitter = fitter\n",
    "        ctx.residual = residual\n",
    "        ctx.shape = input.shape\n",
    "        return integral\n",
    "    \n",
    "    @staticmethod\n",
    "    def backward(ctx, grad_output):\n",
    "        grad_input = None\n",
    "        shape = ctx.shape\n",
    "        power = ctx.fitter.power\n",
    "        dm = ctx.fitter.dm\n",
    "        m = ctx.fitter.m\n",
    "        if True: #ctx.needs_input_grad[0]:\n",
    "            #res_delta is the first term in gradient\n",
    "            #select F_m for m = m_i for each score s_i\n",
    "            #i.e. keep only Fm(s_i) in the correct mass bin\n",
    "            res_delta = ctx.residual.T # (N,mbins)-> (mbins,N)\n",
    "            res_delta = res_delta.reshape(-1,shape[1]) # (mbins,N)-> (mbins**2,bincontent)\n",
    "            res_delta = res_delta[(shape[0]+1)*np.arange(shape[0])] #keep rows: 0, mbin+1, 2mbin+2, etc\n",
    "            res_delta = res_delta.view(-1) # flatten\n",
    "            grad_input = grad_output  \\\n",
    "             * (-power)*(res_delta-ctx.residual.sum(axis=-1)*0.5*dm[0])/np.prod(shape)\n",
    "            grad_input = grad_input.view(shape).double()\n",
    "\n",
    "        return grad_input, None, None, None\n"
   ]
  },
  {
   "cell_type": "code",
   "execution_count": 3,
   "metadata": {},
   "outputs": [],
   "source": [
    "F_state = contextvars.ContextVar('F_state')\n",
    "s_state = contextvars.ContextVar('s_state')"
   ]
  },
  {
   "cell_type": "code",
   "execution_count": 4,
   "metadata": {},
   "outputs": [
    {
     "data": {
      "text/plain": [
       "<matplotlib.collections.PathCollection at 0x7f2ffed84748>"
      ]
     },
     "execution_count": 4,
     "metadata": {},
     "output_type": "execute_result"
    },
    {
     "data": {
      "image/png": "[encoded data removed]",
      "text/plain": [
       "<Figure size 432x288 with 1 Axes>"
      ]
     },
     "metadata": {
      "needs_background": "dark"
     },
     "output_type": "display_data"
    }
   ],
   "source": [
    "mbins = 100   # number of mass bins\n",
    "bincontent = 10  # number of points in a given bin\n",
    "shape=(mbins,bincontent) \n",
    "m = np.random.uniform(-1,1,size=np.prod(shape)) #prod(shape)=N=batch_size\n",
    "m.sort()\n",
    "m = m.reshape(shape)\n",
    "scores = np.sin(m*np.pi) + np.random.normal(0,0.1,size=shape)\n",
    "scores = (scores - scores.min())/(scores.max() - scores.min())\n",
    "plt.scatter(m,scores,s=1)"
   ]
  },
  {
   "cell_type": "code",
   "execution_count": 5,
   "metadata": {},
   "outputs": [],
   "source": [
    "scoresTensor = torch.DoubleTensor(scores)\n",
    "fitter = LegendreFitter(m=m,power=2,order=0)\n",
    "LI = LegendreIntegral()\n",
    "LI.forward(LI.ctx,scoresTensor,fitter,sbins=200)\n",
    "F = F_state.get() #Get CDFs, F(s), to plot them\n",
    "s = s_state.get() #Get scores s, used to calculate F(s)"
   ]
  },
  {
   "cell_type": "markdown",
   "metadata": {},
   "source": [
    "## Plotting F_m(s) and its fit using Legendre Polynomials "
   ]
  },
  {
   "cell_type": "code",
   "execution_count": 6,
   "metadata": {},
   "outputs": [
    {
     "data": {
      "image/png": "[encoded data removed]",
      "text/plain": [
       "<Figure size 432x288 with 1 Axes>"
      ]
     },
     "metadata": {
      "needs_background": "dark"
     },
     "output_type": "display_data"
    }
   ],
   "source": [
    "#plotting F(s) and its fit for every 40th score\n",
    "for i,(Fs, s_value,fit) in enumerate(zip(F[::40],s[::40],fitter(F)[::40])):\n",
    "    plt.plot(m.mean(axis=1),Fs,c=f\"C{i}\",label=\"{:.3f}\".format(s_value.item()))\n",
    "    plt.plot(m.mean(axis=1),fit,c=f\"C{i}\",ls='--')\n",
    "plt.legend(title=\"s\")\n",
    "plt.xlabel('m')\n",
    "plt.ylabel('F(s)')\n",
    "plt.show()"
   ]
  },
  {
   "cell_type": "markdown",
   "metadata": {},
   "source": [
    "#### Effect of different number of sbins on the integral"
   ]
  },
  {
   "cell_type": "code",
   "execution_count": 7,
   "metadata": {},
   "outputs": [
    {
     "name": "stdout",
     "output_type": "stream",
     "text": [
      "sbins result\n",
      "10   15.00476\n",
      "50   14.93802\n",
      "100  14.93412\n",
      "500  14.94156\n",
      "1000 14.94062\n",
      "5000 14.94105\n",
      "100000.0 14.94090\n",
      "200000.0 14.94214\n",
      "300000.0 14.93751\n"
     ]
    }
   ],
   "source": [
    "print(\"sbins result\")\n",
    "for sbins in [10,50,100,500,1000,5000,1e5,2e5,3e5]:\n",
    "    result = LI.forward(LI.ctx,scoresTensor,fitter,sbins=int(sbins))\n",
    "    print(\"{:<4} {:5.5f}\".format(sbins, result))"
   ]
  },
  {
   "cell_type": "code",
   "execution_count": 8,
   "metadata": {},
   "outputs": [],
   "source": [
    "grads = LI.backward(LI.ctx,1)[0]"
   ]
  },
  {
   "cell_type": "markdown",
   "metadata": {},
   "source": [
    "#### print analytical gradients  for the 10 points inside the 0th mass bin"
   ]
  },
  {
   "cell_type": "code",
   "execution_count": 9,
   "metadata": {},
   "outputs": [
    {
     "name": "stdout",
     "output_type": "stream",
     "text": [
      "tensor([-7.7747e-04,  6.6700e-04,  8.6519e-04,  1.0600e-04, -6.4117e-05,\n",
      "        -4.2853e-04,  4.6882e-04,  2.7835e-04, -2.4173e-04, -5.9653e-04],\n",
      "       dtype=torch.float64)\n"
     ]
    }
   ],
   "source": [
    "print(grads[0])"
   ]
  },
  {
   "cell_type": "markdown",
   "metadata": {},
   "source": [
    "####  Calculate gradients numerically for the 10 points inside the 0th mass bin"
   ]
  },
  {
   "cell_type": "code",
   "execution_count": 11,
   "metadata": {},
   "outputs": [
    {
     "name": "stdout",
     "output_type": "stream",
     "text": [
      "[-0.08487701416015625, 0.057220458984375, 0.0762939453125, 0.00095367431640625, -0.0152587890625, -0.05340576171875, 0.0362396240234375, 0.0171661376953125, -0.034332275390625, -0.06771087646484375]\n"
     ]
    }
   ],
   "source": [
    "eps = 1e-3\n",
    "grads_num = list()\n",
    "for i in range(bincontent):\n",
    "    scores_epsP = scores.copy()\n",
    "    scores_epsN = scores.copy()\n",
    "    scores_epsP[0,i] = scores_epsP[0,i] + eps/2\n",
    "    scores_epsN[0,i] = scores_epsN[0,i] - eps/2\n",
    "    scoresTensor_epsP = torch.DoubleTensor(scores_epsP)\n",
    "    scoresTensor_epsN = torch.DoubleTensor(scores_epsN)\n",
    "    I_epsP = LI.forward(LI.ctx,scoresTensor_epsP,fitter,sbins=2000).item()\n",
    "    I_epsN = LI.forward(LI.ctx,scoresTensor_epsN,fitter,sbins=2000).item()\n",
    "    grads_num.append((I_epsP-I_epsN)/eps)\n",
    "print(grads_num)"
   ]
  },
  {
   "cell_type": "code",
   "execution_count": null,
   "metadata": {},
   "outputs": [],
   "source": []
  }
 ],
 "metadata": {
  "kernelspec": {
   "display_name": "Python 3",
   "language": "python",
   "name": "python3"
  },
  "language_info": {
   "codemirror_mode": {
    "name": "ipython",
    "version": 3
   },
   "file_extension": ".py",
   "mimetype": "text/x-python",
   "name": "python",
   "nbconvert_exporter": "python",
   "pygments_lexer": "ipython3",
   "version": "3.7.3"
  }
 },
 "nbformat": 4,
 "nbformat_minor": 4
}
