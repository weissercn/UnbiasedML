{
 "cells": [
  {
   "cell_type": "code",
   "execution_count": 1,
   "metadata": {},
   "outputs": [],
   "source": [
    "import numpy as np\n",
    "import torch\n",
    "from torch.utils.data import DataLoader\n",
    "import pandas\n",
    "from matplotlib import pyplot as plt, rcParams\n",
    "from matplotlib.colors import LogNorm\n",
    "from models import Classifier, LegendreLoss, Metrics, find_threshold,DataSet\n",
    "from models import find_threshold\n",
    "torch.manual_seed(42)"
   ]
  },
  {
   "cell_type": "code",
   "execution_count": 2,
   "metadata": {},
   "outputs": [
    {
     "data": {
      "image/png": "[encoded data removed]",
      "text/plain": [
       "<Figure size 864x720 with 12 Axes>"
      ]
     },
     "metadata": {
      "needs_background": "dark"
     },
     "output_type": "display_data"
    }
   ],
   "source": [
    "files = np.load(\"data/W_FCN_v0.npz\")\n",
    "train = files[\"train\"]\n",
    "val = files[\"val\"]\n",
    "\n",
    "maxdata = train.max(axis=0)\n",
    "mindata = train.min(axis=0)\n",
    "train = (train-mindata)/(maxdata-mindata)\n",
    "maxdata = val.max(axis=0)\n",
    "mindata = val.min(axis=0)\n",
    "val = (val-mindata)/(maxdata-mindata)\n",
    "\n",
    "fig, axes = plt.subplots(3,4,figsize=(12,10))\n",
    "for i,ax in enumerate(axes.flatten()):\n",
    "    ax.hist(train[:,i][train[:,-1]==0],bins=25,alpha=0.3)\n",
    "    ax.hist(train[:,i][train[:,-1]==1],bins=25,alpha=0.3)\n",
    "    ax.set_yticks([])"
   ]
  },
  {
   "cell_type": "code",
   "execution_count": 3,
   "metadata": {},
   "outputs": [],
   "source": [
    "class weighted_mse():\n",
    "    def __init__(self,labels):\n",
    "        ones = sum(labels)\n",
    "        self.ones_frac = ones/(labels.shape[0]-ones)\n",
    "    def __call__(self,pred,target):\n",
    "        weights = target/self.ones_frac + (1-target)\n",
    "        return torch.mean(weights*(pred-target)**2)"
   ]
  },
  {
   "cell_type": "code",
   "execution_count": 4,
   "metadata": {},
   "outputs": [],
   "source": [
    "params = {'epochs' : 2000,\n",
    "          'interval'   : 100,\n",
    "          'batch_size' : 1024,\n",
    "          'shuffle'    : True,\n",
    "          'num_workers': 6}\n",
    "traindataset = DataSet(samples=train[::300,1:-1].astype(float),\n",
    "                       labels=train[::300,-1].astype(int))\n",
    "valdataset = DataSet(samples=val[:,1:-1].astype(float),\n",
    "                     labels=val[:,-1].astype(int))\n",
    "metrics_train = Metrics()\n",
    "metrics_val = Metrics(validation=True)"
   ]
  },
  {
   "cell_type": "code",
   "execution_count": 8,
   "metadata": {},
   "outputs": [
    {
     "name": "stdout",
     "output_type": "stream",
     "text": [
      "Entering Training...\n",
      "Epoch:0100/2000 || Train: loss:0.3519, acc:68% || Test: loss: 0.4866, acc:74%, R50: 5.2381  || 07.4s\n",
      "Epoch:0200/2000 || Train: loss:0.3157, acc:70% || Test: loss: 0.4357, acc:68%, R50: 5.3398  || 14.7s\n",
      "Epoch:0300/2000 || Train: loss:0.2712, acc:71% || Test: loss: 0.4174, acc:67%, R50: 5.6995  || 22.1s\n",
      "Epoch:0400/2000 || Train: loss:0.2728, acc:72% || Test: loss: 0.3920, acc:70%, R50: 6.4706  || 29.5s\n",
      "Epoch:0500/2000 || Train: loss:0.2653, acc:74% || Test: loss: 0.3337, acc:75%, R50: 7.9710  || 37.0s\n",
      "Epoch:0600/2000 || Train: loss:0.2795, acc:72% || Test: loss: 0.3508, acc:75%, R50: 9.4828  || 44.4s\n",
      "Epoch:0700/2000 || Train: loss:0.2545, acc:74% || Test: loss: 0.3600, acc:75%, R50: 10.0917  || 51.8s\n",
      "Epoch:0800/2000 || Train: loss:0.2786, acc:74% || Test: loss: 0.2740, acc:81%, R50: 11.9565  || 59.2s\n",
      "Epoch:0900/2000 || Train: loss:0.2307, acc:78% || Test: loss: 0.3436, acc:75%, R50: 13.5802  || 66.6s\n",
      "Epoch:1000/2000 || Train: loss:0.2553, acc:75% || Test: loss: 0.2424, acc:83%, R50: 13.4146  || 74.0s\n",
      "Epoch:1100/2000 || Train: loss:0.2244, acc:70% || Test: loss: 0.4109, acc:70%, R50: 15.0685  || 81.4s\n",
      "Epoch:1200/2000 || Train: loss:0.2344, acc:78% || Test: loss: 0.1908, acc:85%, R50: 16.1765  || 88.8s\n",
      "Epoch:1300/2000 || Train: loss:0.2221, acc:74% || Test: loss: 0.4102, acc:70%, R50: 15.9420  || 96.3s\n",
      "Epoch:1400/2000 || Train: loss:0.2005, acc:77% || Test: loss: 0.3513, acc:74%, R50: 15.2778  || 103.7s\n",
      "Epoch:1500/2000 || Train: loss:0.1821, acc:85% || Test: loss: 0.3072, acc:78%, R50: 17.7419  || 111.1s\n",
      "Epoch:1600/2000 || Train: loss:0.2352, acc:79% || Test: loss: 0.1986, acc:85%, R50: 18.9655  || 118.5s\n",
      "Epoch:1700/2000 || Train: loss:0.2501, acc:69% || Test: loss: 0.3014, acc:77%, R50: 16.4179  || 125.8s\n",
      "Epoch:1800/2000 || Train: loss:0.1970, acc:84% || Test: loss: 0.1894, acc:85%, R50: 25.0000  || 133.2s\n",
      "Epoch:1900/2000 || Train: loss:0.1859, acc:83% || Test: loss: 0.2235, acc:83%, R50: 22.4490  || 140.6s\n",
      "Epoch:2000/2000 || Train: loss:0.2030, acc:82% || Test: loss: 0.1957, acc:85%, R50: 21.5686  || 148.0s\n"
     ]
    }
   ],
   "source": [
    "model = Classifier()\n",
    "optimizer = torch.optim.SGD(model.parameters(),lr=1e-1,momentum=0.)\n",
    "scheduler = torch.optim.lr_scheduler.StepLR(optimizer,step_size=200, gamma=0.9)\n",
    "criterion = weighted_mse(labels=traindataset.labels)\n",
    "model.fit(traindataset=traindataset,\n",
    "          valdataset=valdataset,\n",
    "          **params,\n",
    "          optimizer= optimizer,\n",
    "          loss=criterion,\n",
    "          #scheduler=scheduler,\n",
    "          metrics=[metrics_train,metrics_val])"
   ]
  },
  {
   "cell_type": "code",
   "execution_count": null,
   "metadata": {},
   "outputs": [],
   "source": []
  }
 ],
 "metadata": {
  "kernelspec": {
   "display_name": "Python 3",
   "language": "python",
   "name": "python3"
  },
  "language_info": {
   "codemirror_mode": {
    "name": "ipython",
    "version": 3
   },
   "file_extension": ".py",
   "mimetype": "text/x-python",
   "name": "python",
   "nbconvert_exporter": "python",
   "pygments_lexer": "ipython3",
   "version": "3.7.3"
  }
 },
 "nbformat": 4,
 "nbformat_minor": 2
}
