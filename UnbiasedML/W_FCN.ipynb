{
 "cells": [
  {
   "cell_type": "code",
   "execution_count": 1,
   "metadata": {},
   "outputs": [],
   "source": [
    "import numpy as np\n",
    "import torch\n",
    "import pandas\n",
    "from matplotlib import pyplot as plt, rcParams\n",
    "from matplotlib.colors import LogNorm\n",
    "from models import Classifier, LegendreLoss, Metrics, find_threshold\n",
    "from models import find_threshold\n",
    "np.random.seed(42)"
   ]
  },
  {
   "cell_type": "code",
   "execution_count": 2,
   "metadata": {},
   "outputs": [
    {
     "data": {
      "image/png": "[encoded data removed]",
      "text/plain": [
       "<Figure size 864x720 with 12 Axes>"
      ]
     },
     "metadata": {
      "needs_background": "dark"
     },
     "output_type": "display_data"
    }
   ],
   "source": [
    "files = np.load(\"data/W_FCN_v0.npz\")\n",
    "test = files[\"test\"]\n",
    "train = files[\"train\"]\n",
    "val = files[\"val\"]\n",
    "mask = np.arange(train.shape[0])\n",
    "np.random.shuffle(mask)\n",
    "\n",
    "fig, axes = plt.subplots(3,4,figsize=(12,10))\n",
    "for i,ax in enumerate(axes.flatten()):\n",
    "    ax.hist(train[:,i][train[:,-1]==0],bins=25,alpha=0.3)\n",
    "    ax.hist(train[:,i][train[:,-1]==1],bins=25,alpha=0.3)\n",
    "    ax.set_yticks([])"
   ]
  },
  {
   "cell_type": "code",
   "execution_count": 10,
   "metadata": {},
   "outputs": [
    {
     "data": {
      "image/png": "[encoded data removed]",
      "text/plain": [
       "<Figure size 576x720 with 10 Axes>"
      ]
     },
     "metadata": {
      "needs_background": "dark"
     },
     "output_type": "display_data"
    }
   ],
   "source": [
    "x_train = torch.from_numpy(train[:,1:11]).float()[mask][:59345].view(-1,10)\n",
    "y_train = torch.from_numpy(train[:,-1]).float().view(-1,1)[mask][:59345]\n",
    "x_val = torch.from_numpy(val[:,1:11]).float().view(-1,10)\n",
    "y_val = torch.from_numpy(val[:,-1]).float().view(-1,1)\n",
    "x_test = torch.from_numpy(test[:,1:5]).float().view(-1,4)\n",
    "y_test = torch.from_numpy(test[:,-1]).float().view(-1,1)\n",
    "\n",
    "\n",
    "fig, axes = plt.subplots(5,2,figsize=(8,10))\n",
    "for i,ax in enumerate(axes.flatten()):\n",
    "    ax.hist(np.array(x_train[:,i].tolist())[np.array(y_train.view(-1).tolist())==0],alpha=0.5,bins=25)\n",
    "    ax.hist(np.array(x_train[:,i].tolist())[np.array(y_train.view(-1).tolist())==1],alpha=0.5,bins=25)\n",
    "    ax.set_yticks([])"
   ]
  },
  {
   "cell_type": "code",
   "execution_count": 11,
   "metadata": {},
   "outputs": [],
   "source": [
    "ones_frac = np.sum(y_train.tolist())/(y_train.shape[0]-np.sum(y_train.tolist()))\n",
    "weights = y_train/ones_frac + (1-y_train)\n",
    "class weighted_mse():\n",
    "    def __call__(self,pred,target):\n",
    "        return torch.mean(weights*(pred-target)**2)"
   ]
  },
  {
   "cell_type": "code",
   "execution_count": 12,
   "metadata": {},
   "outputs": [
    {
     "name": "stdout",
     "output_type": "stream",
     "text": [
      "0.303462802257983\n"
     ]
    }
   ],
   "source": [
    "print(np.sum(y_train.tolist())/y_train.shape[0])"
   ]
  },
  {
   "cell_type": "code",
   "execution_count": 15,
   "metadata": {},
   "outputs": [
    {
     "name": "stdout",
     "output_type": "stream",
     "text": [
      "Epoch:0000/2000 || Train: loss:0.6849, acc:70% || Test: loss: 0.7913, acc:20%\n",
      "Epoch:0100/2000 || Train: loss:0.4818, acc:70% || Test: loss: 0.5118, acc:20%\n",
      "Epoch:0200/2000 || Train: loss:0.3491, acc:56% || Test: loss: 0.2541, acc:51%\n",
      "Epoch:0300/2000 || Train: loss:0.3465, acc:58% || Test: loss: 0.2512, acc:49%\n",
      "Epoch:0400/2000 || Train: loss:0.3447, acc:59% || Test: loss: 0.2493, acc:55%\n",
      "Epoch:0500/2000 || Train: loss:0.3432, acc:59% || Test: loss: 0.2480, acc:57%\n",
      "Epoch:0600/2000 || Train: loss:0.3420, acc:59% || Test: loss: 0.2470, acc:57%\n",
      "Epoch:0700/2000 || Train: loss:0.3409, acc:59% || Test: loss: 0.2462, acc:57%\n",
      "Epoch:0800/2000 || Train: loss:0.3400, acc:59% || Test: loss: 0.2455, acc:57%\n",
      "Epoch:0900/2000 || Train: loss:0.3392, acc:60% || Test: loss: 0.2449, acc:57%\n",
      "Epoch:1000/2000 || Train: loss:0.3386, acc:60% || Test: loss: 0.2445, acc:58%\n",
      "Epoch:1100/2000 || Train: loss:0.3381, acc:60% || Test: loss: 0.2442, acc:58%\n",
      "Epoch:1200/2000 || Train: loss:0.3377, acc:60% || Test: loss: 0.2439, acc:58%\n",
      "Epoch:1300/2000 || Train: loss:0.3373, acc:60% || Test: loss: 0.2437, acc:58%\n",
      "Epoch:1400/2000 || Train: loss:0.3370, acc:60% || Test: loss: 0.2435, acc:57%\n",
      "Epoch:1500/2000 || Train: loss:0.3367, acc:60% || Test: loss: 0.2433, acc:57%\n",
      "Epoch:1600/2000 || Train: loss:0.3364, acc:61% || Test: loss: 0.2431, acc:57%\n",
      "Epoch:1700/2000 || Train: loss:0.3361, acc:61% || Test: loss: 0.2430, acc:57%\n",
      "Epoch:1800/2000 || Train: loss:0.3359, acc:61% || Test: loss: 0.2428, acc:57%\n",
      "Epoch:1900/2000 || Train: loss:0.3356, acc:61% || Test: loss: 0.2428, acc:57%\n",
      "Epoch:1999/2000 || Train: loss:0.3353, acc:61% || Test: loss: 0.2427, acc:57%\n"
     ]
    }
   ],
   "source": [
    "metrics_train = Metrics()\n",
    "metrics_val = Metrics()\n",
    "\n",
    "model = Classifier()\n",
    "optimizer = torch.optim.SGD(model.parameters(),lr=1e-4,momentum=0.)\n",
    "scheduler = torch.optim.lr_scheduler.StepLR(optimizer,step_size=200, gamma=0.5)\n",
    "model.fit(x=x_train,y=y_train,\n",
    "          val_data=[x_val,y_val],\n",
    "          n_epochs=2000,\n",
    "          optimizer= optimizer,\n",
    "          loss=weighted_mse(),\n",
    "          #scheduler=scheduler,\n",
    "          metrics=[metrics_train,metrics_val])"
   ]
  },
  {
   "cell_type": "code",
   "execution_count": 20,
   "metadata": {},
   "outputs": [],
   "source": [
    "preds = np.array(model.yhat_val.tolist()).flatten()\n",
    "targets = np.array(y_val.tolist()).flatten()"
   ]
  },
  {
   "cell_type": "code",
   "execution_count": 22,
   "metadata": {},
   "outputs": [],
   "source": [
    "# find cut such that 0.5 signal (label 0 in this case) is classified correctly\n",
    "c = find_threshold(preds,(targets==0),0.5)"
   ]
  },
  {
   "cell_type": "code",
   "execution_count": 26,
   "metadata": {},
   "outputs": [
    {
     "data": {
      "text/plain": [
       "0.5"
      ]
     },
     "execution_count": 26,
     "metadata": {},
     "output_type": "execute_result"
    }
   ],
   "source": [
    "#fraction of signal that is accepted\n",
    "(preds[targets==0]<c).sum()/(targets==0).sum()"
   ]
  },
  {
   "cell_type": "code",
   "execution_count": 33,
   "metadata": {},
   "outputs": [],
   "source": [
    "# fraction of backgrounds that are accepted (inverted = R50)\n",
    "R50 = 1/((preds[targets==1]<c).sum()/(targets==1).sum())"
   ]
  },
  {
   "cell_type": "code",
   "execution_count": 34,
   "metadata": {},
   "outputs": [
    {
     "data": {
      "text/plain": [
       "2.9641606036108867"
      ]
     },
     "execution_count": 34,
     "metadata": {},
     "output_type": "execute_result"
    }
   ],
   "source": [
    "R50"
   ]
  },
  {
   "cell_type": "code",
   "execution_count": 36,
   "metadata": {},
   "outputs": [
    {
     "name": "stdout",
     "output_type": "stream",
     "text": [
      "----------------------------------------------------------------\n",
      "        Layer (type)               Output Shape         Param #\n",
      "================================================================\n",
      "            Linear-1                   [-1, 32]             352\n",
      "            Linear-2                   [-1, 64]           2,112\n",
      "            Linear-3                  [-1, 128]           8,320\n",
      "            Linear-4                    [-1, 1]             129\n",
      "================================================================\n",
      "Total params: 10,913\n",
      "Trainable params: 10,913\n",
      "Non-trainable params: 0\n",
      "----------------------------------------------------------------\n",
      "Input size (MB): 0.00\n",
      "Forward/backward pass size (MB): 0.00\n",
      "Params size (MB): 0.04\n",
      "Estimated Total Size (MB): 0.04\n",
      "----------------------------------------------------------------\n"
     ]
    }
   ],
   "source": [
    "from torchsummary import summary\n",
    "summary(model,(10,))"
   ]
  },
  {
   "cell_type": "code",
   "execution_count": null,
   "metadata": {},
   "outputs": [],
   "source": []
  }
 ],
 "metadata": {
  "kernelspec": {
   "display_name": "Python 3",
   "language": "python",
   "name": "python3"
  },
  "language_info": {
   "codemirror_mode": {
    "name": "ipython",
    "version": 3
   },
   "file_extension": ".py",
   "mimetype": "text/x-python",
   "name": "python",
   "nbconvert_exporter": "python",
   "pygments_lexer": "ipython3",
   "version": "3.7.3"
  }
 },
 "nbformat": 4,
 "nbformat_minor": 2
}
