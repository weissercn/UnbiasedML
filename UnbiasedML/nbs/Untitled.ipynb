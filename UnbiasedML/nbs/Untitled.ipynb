{
 "cells": [
  {
   "cell_type": "code",
   "execution_count": 1,
   "metadata": {},
   "outputs": [],
   "source": [
    "import numpy as np\n",
    "from matplotlib import pyplot as plt\n",
    "import torch\n",
    "import sys\n",
    "import glob\n",
    "sys.path.insert(0, '..')\n",
    "from models import Classifier\n",
    "from utils import Metrics, find_threshold\n",
    "model_L = Classifier()"
   ]
  },
  {
   "cell_type": "code",
   "execution_count": 21,
   "metadata": {},
   "outputs": [
    {
     "data": {
      "image/png": "[encoded data removed]",
      "text/plain": [
       "<Figure size 432x288 with 1 Axes>"
      ]
     },
     "metadata": {
      "needs_background": "dark"
     },
     "output_type": "display_data"
    }
   ],
   "source": [
    "fpr = np.linspace(1,10,100)\n",
    "sigeff = np.linspace(10,1,100)\n",
    "norm_sigeff = np.cumsum(sigeff)/sum(sigeff)\n",
    "plt.step(fpr,norm_sigeff)\n",
    "plt.xscale('log')"
   ]
  },
  {
   "cell_type": "code",
   "execution_count": 14,
   "metadata": {},
   "outputs": [
    {
     "ename": "NameError",
     "evalue": "name 'asdasfd' is not defined",
     "output_type": "error",
     "traceback": [
      "\u001b[0;31m---------------------------------------------------------------------------\u001b[0m",
      "\u001b[0;31mNameError\u001b[0m                                 Traceback (most recent call last)",
      "\u001b[0;32m<ipython-input-14-e431515c12ea>\u001b[0m in \u001b[0;36m<module>\u001b[0;34m\u001b[0m\n\u001b[0;32m----> 1\u001b[0;31m \u001b[0masdasfd\u001b[0m\u001b[0;34m\u001b[0m\u001b[0;34m\u001b[0m\u001b[0m\n\u001b[0m",
      "\u001b[0;31mNameError\u001b[0m: name 'asdasfd' is not defined"
     ]
    }
   ],
   "source": [
    "asdasfd "
   ]
  },
  {
   "cell_type": "code",
   "execution_count": null,
   "metadata": {
    "code_folding": [
     0
    ]
   },
   "outputs": [],
   "source": [
    " def metric_calc(model,X,y,x_biased):\n",
    "    predictions = np.array(model(X).tolist()).flatten()\n",
    "    metrics_test = Metrics(validation=True) \n",
    "    metrics_test.calculate(pred=predictions, target=y,m=x_biased)\n",
    "    R50 = metrics_test.R50[0]\n",
    "    JSD = metrics_test.JSD[0]\n",
    "    return (1/JSD,R50)\n",
    "    \n",
    "def plot_stuff(model,X,y,x_biased,mbins=100,histbins=None,name='Naive DNN',f=None,ptype=0,dynamicbins=True):\n",
    "    if histbins == None:\n",
    "        histbins=mbins\n",
    "    predictions = np.array(model(X).tolist()).flatten()\n",
    "    metrics_test = Metrics(validation=True) \n",
    "    metrics_test.calculate(pred=predictions, target=y,m=x_biased)\n",
    "    R50 = metrics_test.R50[0]\n",
    "    JSD = metrics_test.JSD[0]\n",
    "    \n",
    "    \n",
    "    c = find_threshold(predictions,(y==0),0.5)\n",
    "    fig, [ax,ax1] = plt.subplots(2,1,figsize=(6,8),dpi=120,sharex=True)\n",
    "    _,bins,_ = ax.hist(x_biased[(y==1)],bins=histbins,alpha=0.3,color='C1',label='Background',density=True,log=True)\n",
    "    ax.hist(x_biased[(y==1)&(predictions<c)],bins=bins,alpha=0.3,color='C0',label='False Positives',density=True,log=True)\n",
    "    ax.set_ylabel(\"Normed Counts\",fontsize=20)\n",
    "    ax.set_title('{} (R50:{:.2f}, 1/JSD:{:.2f})'.format(name,R50,1/JSD))\n",
    "    ax.legend()\n",
    "\n",
    "    efficiencies = np.linspace(0.1,0.9,9)\n",
    "    cuts = []\n",
    "    for eff in efficiencies:\n",
    "        cuts.append(find_threshold(predictions,(y==0),eff))\n",
    "    m = x_biased[y==1]\n",
    "    scores = predictions[y==1]\n",
    "    if dynamicbins:\n",
    "        sorted_m = np.argsort(m)\n",
    "        scores = scores[sorted_m].reshape(mbins,-1)\n",
    "        m = m[sorted_m]\n",
    "        m = m.reshape(mbins,-1).mean(axis=1)\n",
    "    else:\n",
    "        _,bins = np.histogram(m,bins=mbins)\n",
    "        digitized = np.digitize(m,bins)\n",
    "        m = bins[:-1]\n",
    "    for j,cut in enumerate(cuts):\n",
    "        c = f\"C{j}\" #if j!= 6 else f\"C11\"\n",
    "        if dynamicbins:\n",
    "            passed = (scores<cut).sum(axis=1)/scores.shape[1]\n",
    "        else:\n",
    "            passed = [(scores[digitized==i]<cut).sum()/(digitized==i).sum() for i in range(mbins)]\n",
    "        if ptype == 0:\n",
    "            ax1.plot(m,passed,label=\"{:0.1f} ({:0.2f})\".format(efficiencies[j],cut),alpha=0.9,c=c,lw=1)\n",
    "        else:\n",
    "            ax1.step(m,passed,label=\"{:0.1f} ({:0.2f})\".format(efficiencies[j],cut),alpha=0.9,c=c,lw=1)\n",
    "            \n",
    "    ax1.set_ylabel(r\"$\\mathrm{passing\\, events}/\\mathrm{events\\,in\\, bin}$\",fontsize=14)\n",
    "    ax1.set_ylim([-0.02,1.02])\n",
    "    ax1.legend(loc='upper right', bbox_to_anchor=(1,1) ,markerscale=5,title=\"SE (Cut)\",ncol=3)\n",
    "    ax1.set_xlabel(r\"$m$\",fontsize=14)\n",
    "    fig.tight_layout(pad=0)\n",
    "    if f is not None:\n",
    "        fig.savefig(f)\n",
    "    plt.show()\n",
    "    return (1/JSD,R50)"
   ]
  },
  {
   "cell_type": "code",
   "execution_count": null,
   "metadata": {},
   "outputs": [],
   "source": [
    "plt.legend()"
   ]
  },
  {
   "cell_type": "code",
   "execution_count": null,
   "metadata": {},
   "outputs": [],
   "source": [
    "#dataset \n",
    "files = np.load(\"data/W_FCN_v0.npz\")\n",
    "train = files[\"train\"].astype('float32')\n",
    "val = files[\"val\"].astype('float32')\n",
    "test = files[\"test\"].astype('float32')\n",
    "\n",
    "train_labels = train[::,-1]\n",
    "val_labels   = val[::,-1]\n",
    "test_labels=test[::,-1]\n",
    "\n",
    "data = np.concatenate([train,val,test],axis=0)\n",
    "maxdata = data.max(axis=0)\n",
    "mindata = data.min(axis=0)\n",
    "data = (data-mindata)/(maxdata-mindata)\n",
    "data[::,0] = 2*(data[::,0]-data[:,0].min())/(data[:,0].max()-data[:,0].min())-1\n",
    "\n",
    "test = data[val.shape[0]+train.shape[0]:]\n",
    "\n",
    "X = torch.from_numpy(test[:,1:11]).float()"
   ]
  },
  {
   "cell_type": "code",
   "execution_count": null,
   "metadata": {},
   "outputs": [],
   "source": [
    "f = glob.glob(\"./logs/new/16384/Flat*b50).pt\")[0]\n",
    "model_L.load_state_dict(torch.load(f))\n",
    "out=plot_stuff(model=model_L,X=X,y=test_labels,x_biased=test[:,0],ptype=1,dynamicbins=False)"
   ]
  },
  {
   "cell_type": "code",
   "execution_count": null,
   "metadata": {},
   "outputs": [],
   "source": [
    "plt.step(np.linspace(0,1,100),norm_sigeff)"
   ]
  },
  {
   "cell_type": "code",
   "execution_count": null,
   "metadata": {},
   "outputs": [],
   "source": []
  }
 ],
 "metadata": {
  "kernelspec": {
   "display_name": "Python 3",
   "language": "python",
   "name": "python3"
  },
  "language_info": {
   "codemirror_mode": {
    "name": "ipython",
    "version": 3
   },
   "file_extension": ".py",
   "mimetype": "text/x-python",
   "name": "python",
   "nbconvert_exporter": "python",
   "pygments_lexer": "ipython3",
   "version": "3.7.3"
  }
 },
 "nbformat": 4,
 "nbformat_minor": 4
}
