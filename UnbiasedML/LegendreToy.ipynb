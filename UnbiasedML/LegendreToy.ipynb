{
 "cells": [
  {
   "cell_type": "code",
   "execution_count": 1,
   "metadata": {},
   "outputs": [],
   "source": [
    "import numpy as np\n",
    "from matplotlib import pyplot as plt, rcParams\n",
    "import torch\n",
    "import torch.optim as optim\n",
    "import torch.nn as nn\n",
    "from jupyterthemes import jtplot\n",
    "jtplot.style(theme='monokai', context='notebook', ticks=True, grid=False)\n",
    "np.random.seed(42)\n",
    "rcParams[\"font.size\"] = 16\n",
    "rcParams[\"text.usetex\"] = False\n",
    "rcParams[\"font.serif\"] = \"Bitstream Vera Serif\"\n",
    "rcParams[\"font.family\"] = \"serif\""
   ]
  },
  {
   "cell_type": "markdown",
   "metadata": {},
   "source": [
    "# Generating Toy Data\n",
    "Generate signal mass from a uniform + gaussian distribution.\n",
    "Generate background mass from a linear distribution $ ax + b $ (with $ a = \\frac{1}{4} $ and $ b = \\frac{1}{2} $ ) using inversion transform sampling."
   ]
  },
  {
   "cell_type": "code",
   "execution_count": 2,
   "metadata": {},
   "outputs": [
    {
     "data": {
      "image/png": "[encoded data removed]",
      "text/plain": [
       "<Figure size 432x288 with 1 Axes>"
      ]
     },
     "metadata": {
      "needs_background": "dark"
     },
     "output_type": "display_data"
    }
   ],
   "source": [
    "n_s = int(5e4)\n",
    "n_b = int(5e4)\n",
    "n_s_gauss_frac = 0.8\n",
    "\n",
    "a = 1/4 \n",
    "b = 1/2\n",
    "\n",
    "u = np.random.uniform(0,1,50000)\n",
    "m_b = - b/(a) + np.sqrt((b-a)**2 + 2*a*u)/(a)\n",
    "m_s = np.concatenate([np.random.uniform(-1,1,n_s-int(n_s_gauss_frac*n_s)), \n",
    "                    np.random.normal(0.5,0.1,size=int(n_s_gauss_frac*n_s))])\n",
    "_,bins,_ = plt.hist(m_b,bins=40,density=True,alpha=0.5, label='background')\n",
    "plt.hist(m_s,bins=bins,density=True,alpha=0.5,label='signal')\n",
    "plt.legend()\n",
    "plt.tight_layout()\n",
    "plt.xlabel(\"mass\")\n",
    "plt.ylabel(\"Normed Counts\")\n",
    "plt.title(\"Data\")\n",
    "#plt.savefig(\"./plots/Data.pdf\")\n",
    "plt.show()"
   ]
  },
  {
   "cell_type": "code",
   "execution_count": 3,
   "metadata": {},
   "outputs": [],
   "source": [
    "x = np.concatenate([m_s,m_b])\n",
    "y = np.concatenate([np.ones(m_s.size),np.zeros(m_b.size)])\n",
    "# Shuffling the data\n",
    "size = y.size\n",
    "mask = np.arange(size)\n",
    "np.random.shuffle(mask)\n",
    "\n",
    "# Train Validation Split\n",
    "x_train = x[mask][:int(size*0.8)]\n",
    "y_train = y[mask][:int(size*0.8)]\n",
    "\n",
    "x_val = x[mask][int(size*0.8):]\n",
    "y_val = y[mask][int(size*0.8):]\n",
    "\n",
    "# Torch Tensors\n",
    "x_train_tensor = torch.from_numpy(x_train).float().view(-1,1)\n",
    "y_train_tensor = torch.from_numpy(y_train).float().view(-1,1)\n",
    "x_val_tensor = torch.from_numpy(x_val).float().view(-1,1)\n",
    "y_val_tensor = torch.from_numpy(y_val).float().view(-1,1)"
   ]
  },
  {
   "cell_type": "code",
   "execution_count": 4,
   "metadata": {
    "code_folding": [
     61
    ]
   },
   "outputs": [],
   "source": [
    "\n",
    "# Creating the torch model\n",
    "class Classifier(nn.Module):\n",
    "    def __init__(self):\n",
    "        super().__init__()\n",
    "        self.linear = nn.Linear(1,16)\n",
    "        self.linear2 = nn.Linear(16,32)\n",
    "        self.out = nn.Linear(32,1)\n",
    "        # Defaults\n",
    "        self.n_epochs = 200\n",
    "        self.optimizer = torch.optim.SGD(self.parameters(),lr=1e-1)\n",
    "        #self.loss = torch.nn.MSELoss()\n",
    "        \n",
    "    def forward(self, x):\n",
    "        x = nn.functional.relu(self.linear(x))\n",
    "        x = nn.functional.relu(self.linear2(x))\n",
    "        x = torch.sigmoid(self.out(x))\n",
    "        return x\n",
    "    \n",
    "    def fit(self,x,y,n_epochs=None,optimizer=None,loss=None,interval=100,val_data=[],metrics=[]):\n",
    "        if n_epochs: \n",
    "            self.n_epochs = n_epochs\n",
    "        if optimizer: \n",
    "            self.optimizer = optimizer\n",
    "        if loss:\n",
    "            self.loss = loss\n",
    "        for epoch in range(self.n_epochs):\n",
    "            self.train()\n",
    "            yhat = self(x)\n",
    "            l = self.loss(yhat,y)\n",
    "            l.backward()    \n",
    "            self.optimizer.step()\n",
    "            self.optimizer.zero_grad()\n",
    "            \n",
    "            if metrics:\n",
    "                if type(metrics) == list:\n",
    "                    metrics[0].calculate(pred=yhat,target=y)\n",
    "                else:\n",
    "                    metrics.calculate(pred=yhat,target=y,l=l.item())\n",
    "\n",
    "        #Validation and Printing\n",
    "            if val_data:\n",
    "                if epoch % interval ==0 or epoch == self.n_epochs-1:\n",
    "                    self.train(False)\n",
    "                    yhat_val = self(val_data[0])\n",
    "                    l_val = torch.nn.MSELoss()(yhat_val,val_data[1] )\n",
    "                    if len(metrics)>1:\n",
    "                        metrics[1].calculate(pred=yhat_val,target=val_data[1],l=l_val.item())\n",
    "                    acc = metrics[0].accs[-1]\n",
    "                    acc_val = metrics[1].accs[-1]\n",
    "                    print('Epoch:{:04d}/{:04d} || Train: loss:{:.4f}, acc:{:.0f}% || Test: loss: {:.4f}, acc:{:.0f}%'.format(\n",
    "                    epoch,n_epochs,l.item(), 100.* acc,\n",
    "                    l_val.item(), 100.* acc_val))\n",
    "            else:\n",
    "                if epoch % interval ==0:\n",
    "                    acc = metrics[0].accs[-1]\n",
    "                    print('Epoch:{:04d}/{:04d} loss: {:.4f}, accuracy:({:.0f}%)'.format(\n",
    "                        epoch,n_epochs,l.item(), 100.* acc))\n",
    "                \n",
    "    \n",
    "#define some lists to fill\n",
    "class Metrics():\n",
    "    def __init__(self):\n",
    "        self.losses = []\n",
    "        self.accs = []\n",
    "        self.signalE = []\n",
    "        self.backgroundE= []\n",
    "    def calculate(self,pred,target,l=None,validation=False):\n",
    "        acc = (pred.round()==target).sum().item()/target.shape[0]\n",
    "        signal_efficiency = ((pred.round()==target)&(target==1)).sum().item()/(target==1).sum().item()\n",
    "        background_efficiency = ((pred.round()==target)&(target==0)).sum().item()/(target==0).sum().item()\n",
    "        self.accs.append(acc)\n",
    "        self.signalE.append(signal_efficiency)\n",
    "        self.backgroundE.append(background_efficiency)\n",
    "        if l:\n",
    "            self.losses.append(l)\n",
    "            "
   ]
  },
  {
   "cell_type": "code",
   "execution_count": 5,
   "metadata": {
    "code_folding": []
   },
   "outputs": [],
   "source": [
    "class LegendreLoss():\n",
    "    def __init__(self):\n",
    "        self.mass = np.sort(x_train)\n",
    "        self.dm = torch.from_numpy(self.mass.reshape(-1,100)[:,-1] - self.mass.reshape(-1,100)[:,0]).float().view(-1,1)\n",
    "        self.m = torch.from_numpy(self.mass.reshape(-1,100).mean(axis=1)).float().view(-1,1)\n",
    "        self.p0 = 1\n",
    "        self.p1 = self.m\n",
    "        self.p2 = (self.m**2-1)/2\n",
    "        self.ordered_mass = np.argsort(x_train)\n",
    "        self.F_s_b = 0\n",
    "        self.legendre = 0\n",
    "    def __call__(self,pred,target):   \n",
    "        pred_bins = pred[self.ordered_mass].reshape(-1,100)\n",
    "        ordered_s = pred_bins.argsort(axis=1)\n",
    "        self.F_s_b = pred_bins.gather(1,ordered_s) # ordered in mass bins in axis 0 and ordered in score in axis 1\n",
    "        a0 = 1/2 * (self.F_s_b*self.dm).sum(axis=0)\n",
    "        a1 = 3/2 * (self.F_s_b*self.p1*self.dm).sum(axis=0)\n",
    "        #mean = pred[self.ordered].reshape(-1,100).mean(axis=1)\n",
    "        #a0 = 1/2 * (mean*self.dm).sum()\n",
    "        #a1 = 3/2 * (mean*self.p1*self.dm).sum()\n",
    "        #a2 = 5/2 * (mean*self.p2*self.dm).sum()\n",
    "        self.legendre = a0 + a1*self.p1 #+ a2*self.p2\n",
    "        legendre_loss = ((self.F_s_b - self.legendre)**2).mean()\n",
    "        return legendre_loss*10 + torch.nn.MSELoss()(pred,target)\n",
    "\n",
    "    \n",
    "class JiangLoss():\n",
    "    def __init__(self):\n",
    "        self.gx = (x_train<.75)&(x_train>.25)\n",
    "        self.ytrue = (y_train==1)\n",
    "        self.Z_g = self.gx.sum()/x_train.size\n",
    "        self.P_g = (self.ytrue&self.gx).sum()/x_train.size\n",
    "        self.P_x = (self.ytrue).sum()/x_train.size\n",
    "        self.cx = (self.gx/self.Z_g -1)\n",
    "        self.lambda1 = 0\n",
    "        self.weights = np.ones_like(y_train)\n",
    "        self.eta = 1e-2 #1e-3\n",
    "        self.yhat = torch.from_numpy(np.random.randint(0,2,size=y_train.size))\n",
    "    def __call__(self,pred,target):\n",
    "        self.weights = np.array(self.weights.tolist()).flatten()\n",
    "        self.delta =  (np.array(self.yhat.tolist()).flatten()*self.cx).mean()      # +(1-yhat)*0\n",
    "        self.lambda1 -= self.eta*self.delta\n",
    "        weights_ = np.exp(self.lambda1*self.cx)\n",
    "        self.weights[y_train==1] = (weights_/(1+weights_))[y_train==1]\n",
    "        self.weights[y_train==0] = (1/(1+weights_))[y_train==0]\n",
    "        self.weights = torch.from_numpy(self.weights).view(-1,1)\n",
    "        self.yhat = pred\n",
    "        return torch.mean(self.weights*(pred-target)**2)"
   ]
  },
  {
   "cell_type": "code",
   "execution_count": 6,
   "metadata": {},
   "outputs": [
    {
     "name": "stdout",
     "output_type": "stream",
     "text": [
      "Epoch:0000/1400 || Train: loss:0.2527, acc:50% || Test: loss: 0.2522, acc:50%\n",
      "Epoch:0100/1400 || Train: loss:0.2419, acc:68% || Test: loss: 0.2402, acc:68%\n",
      "Epoch:0200/1400 || Train: loss:0.2360, acc:69% || Test: loss: 0.2327, acc:69%\n",
      "Epoch:0300/1400 || Train: loss:0.2332, acc:69% || Test: loss: 0.2287, acc:70%\n",
      "Epoch:0400/1400 || Train: loss:0.2322, acc:69% || Test: loss: 0.2272, acc:70%\n",
      "Epoch:0500/1400 || Train: loss:0.2319, acc:69% || Test: loss: 0.2267, acc:70%\n",
      "Epoch:0600/1400 || Train: loss:0.2318, acc:69% || Test: loss: 0.2266, acc:70%\n",
      "Epoch:0700/1400 || Train: loss:0.2317, acc:69% || Test: loss: 0.2267, acc:70%\n",
      "Epoch:0800/1400 || Train: loss:0.2316, acc:69% || Test: loss: 0.2267, acc:70%\n",
      "Epoch:0900/1400 || Train: loss:0.2316, acc:69% || Test: loss: 0.2266, acc:70%\n",
      "Epoch:1000/1400 || Train: loss:0.2315, acc:69% || Test: loss: 0.2266, acc:70%\n",
      "Epoch:1100/1400 || Train: loss:0.2315, acc:69% || Test: loss: 0.2266, acc:70%\n",
      "Epoch:1200/1400 || Train: loss:0.2315, acc:69% || Test: loss: 0.2266, acc:70%\n",
      "Epoch:1300/1400 || Train: loss:0.2314, acc:69% || Test: loss: 0.2266, acc:70%\n",
      "Epoch:1399/1400 || Train: loss:0.2314, acc:69% || Test: loss: 0.2266, acc:70%\n"
     ]
    }
   ],
   "source": [
    "metrics_train_legendre = Metrics()\n",
    "metrics_val_legendre = Metrics()\n",
    "model_legendre = Classifier()\n",
    "model_legendre.loss = LegendreLoss()\n",
    "model_legendre.fit(x_train_tensor,y_train_tensor,n_epochs=1400,metrics=[metrics_train_legendre,metrics_val_legendre], val_data=[x_val_tensor,y_val_tensor])"
   ]
  },
  {
   "cell_type": "code",
   "execution_count": 7,
   "metadata": {},
   "outputs": [
    {
     "name": "stdout",
     "output_type": "stream",
     "text": [
      "Epoch:0000/1400 || Train: loss:0.1261, acc:50% || Test: loss: 0.2521, acc:50%\n",
      "Epoch:0100/1400 || Train: loss:0.1215, acc:64% || Test: loss: 0.2432, acc:65%\n",
      "Epoch:0200/1400 || Train: loss:0.1187, acc:67% || Test: loss: 0.2382, acc:68%\n",
      "Epoch:0300/1400 || Train: loss:0.1160, acc:68% || Test: loss: 0.2337, acc:69%\n",
      "Epoch:0400/1400 || Train: loss:0.1135, acc:68% || Test: loss: 0.2298, acc:69%\n",
      "Epoch:0500/1400 || Train: loss:0.1113, acc:69% || Test: loss: 0.2265, acc:69%\n",
      "Epoch:0600/1400 || Train: loss:0.1095, acc:69% || Test: loss: 0.2242, acc:69%\n",
      "Epoch:0700/1400 || Train: loss:0.1080, acc:69% || Test: loss: 0.2225, acc:69%\n",
      "Epoch:0800/1400 || Train: loss:0.1066, acc:69% || Test: loss: 0.2211, acc:69%\n",
      "Epoch:0900/1400 || Train: loss:0.1054, acc:69% || Test: loss: 0.2201, acc:69%\n",
      "Epoch:1000/1400 || Train: loss:0.1042, acc:69% || Test: loss: 0.2193, acc:69%\n",
      "Epoch:1100/1400 || Train: loss:0.1030, acc:69% || Test: loss: 0.2187, acc:69%\n",
      "Epoch:1200/1400 || Train: loss:0.1018, acc:69% || Test: loss: 0.2183, acc:69%\n",
      "Epoch:1300/1400 || Train: loss:0.1007, acc:70% || Test: loss: 0.2182, acc:70%\n",
      "Epoch:1399/1400 || Train: loss:0.0996, acc:72% || Test: loss: 0.2183, acc:73%\n"
     ]
    }
   ],
   "source": [
    "metrics_train_jiang = Metrics()\n",
    "metrics_val_jiang = Metrics()\n",
    "model_jiang = Classifier()\n",
    "model_jiang.loss = JiangLoss()\n",
    "model_jiang.fit(x_train_tensor,y_train_tensor,n_epochs=1400,metrics=[metrics_train_jiang,metrics_val_jiang], val_data=[x_val_tensor,y_val_tensor])"
   ]
  },
  {
   "cell_type": "code",
   "execution_count": 8,
   "metadata": {},
   "outputs": [
    {
     "name": "stdout",
     "output_type": "stream",
     "text": [
      "Epoch:0000/1400 || Train: loss:0.2533, acc:50% || Test: loss: 0.2526, acc:50%\n",
      "Epoch:0100/1400 || Train: loss:0.2359, acc:67% || Test: loss: 0.2354, acc:68%\n",
      "Epoch:0200/1400 || Train: loss:0.2266, acc:68% || Test: loss: 0.2259, acc:69%\n",
      "Epoch:0300/1400 || Train: loss:0.2199, acc:69% || Test: loss: 0.2190, acc:69%\n",
      "Epoch:0400/1400 || Train: loss:0.2156, acc:69% || Test: loss: 0.2145, acc:69%\n",
      "Epoch:0500/1400 || Train: loss:0.2121, acc:69% || Test: loss: 0.2110, acc:70%\n",
      "Epoch:0600/1400 || Train: loss:0.2085, acc:69% || Test: loss: 0.2074, acc:70%\n",
      "Epoch:0700/1400 || Train: loss:0.2043, acc:70% || Test: loss: 0.2032, acc:70%\n",
      "Epoch:0800/1400 || Train: loss:0.1996, acc:73% || Test: loss: 0.1985, acc:74%\n",
      "Epoch:0900/1400 || Train: loss:0.1947, acc:75% || Test: loss: 0.1937, acc:75%\n",
      "Epoch:1000/1400 || Train: loss:0.1900, acc:76% || Test: loss: 0.1891, acc:76%\n",
      "Epoch:1100/1400 || Train: loss:0.1859, acc:76% || Test: loss: 0.1850, acc:77%\n",
      "Epoch:1200/1400 || Train: loss:0.1825, acc:77% || Test: loss: 0.1816, acc:77%\n",
      "Epoch:1300/1400 || Train: loss:0.1797, acc:77% || Test: loss: 0.1789, acc:77%\n",
      "Epoch:1399/1400 || Train: loss:0.1775, acc:77% || Test: loss: 0.1767, acc:77%\n"
     ]
    }
   ],
   "source": [
    "metrics_train_base = Metrics()\n",
    "metrics_val_base = Metrics()\n",
    "model_base = Classifier()\n",
    "model_base.loss = torch.nn.MSELoss()\n",
    "model_base.fit(x_train_tensor,y_train_tensor,n_epochs=1400,metrics=[metrics_train_base,metrics_val_base], val_data=[x_val_tensor,y_val_tensor])"
   ]
  },
  {
   "cell_type": "code",
   "execution_count": 11,
   "metadata": {},
   "outputs": [],
   "source": [
    "from matplotlib.colors import Colormap"
   ]
  },
  {
   "cell_type": "code",
   "execution_count": null,
   "metadata": {},
   "outputs": [],
   "source": [
    "Colormap()"
   ]
  },
  {
   "cell_type": "code",
   "execution_count": 9,
   "metadata": {},
   "outputs": [
    {
     "data": {
      "image/png": "[encoded data removed]",
      "text/plain": [
       "<Figure size 432x288 with 1 Axes>"
      ]
     },
     "metadata": {
      "needs_background": "dark"
     },
     "output_type": "display_data"
    }
   ],
   "source": [
    "scores = np.array(model_legendre.loss.F_s_b.tolist())\n",
    "legendre = np.array(model_legendre.loss.legendre.tolist())\n",
    "m = np.array(model_legendre.loss.m.tolist())\n",
    "\n",
    "ax, fig = plt.subplots(1,1)\n",
    "for i in range(10)\n",
    "    plt.scatter(m,scores[:,0],marker=1,s=3,c=,label=\"Legendre Loss (up to $P_1$)\")\n",
    "#plt.scatter(x_val[y_val==0],predictions,marker=1,s=3,c='k',label=\"Baseline Loss\")\n",
    "plt.plot(m,legendre[:,0],label=\"$P_0 + P_1$\",ls='--')\n",
    "plt.xlabel(\"mass\")\n",
    "plt.ylabel(r\"$\\hat{y}$\")\n",
    "plt.title(\"Model Output as a function of Mass\")\n",
    "plt.legend(loc=(1,0),markerscale=15)\n",
    "plt.show()"
   ]
  },
  {
   "cell_type": "code",
   "execution_count": null,
   "metadata": {},
   "outputs": [],
   "source": []
  }
 ],
 "metadata": {
  "kernelspec": {
   "display_name": "Python 3",
   "language": "python",
   "name": "python3"
  },
  "language_info": {
   "codemirror_mode": {
    "name": "ipython",
    "version": 3
   },
   "file_extension": ".py",
   "mimetype": "text/x-python",
   "name": "python",
   "nbconvert_exporter": "python",
   "pygments_lexer": "ipython3",
   "version": "3.7.3"
  }
 },
 "nbformat": 4,
 "nbformat_minor": 2
}
